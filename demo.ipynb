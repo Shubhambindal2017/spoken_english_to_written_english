{
  "nbformat": 4,
  "nbformat_minor": 0,
  "metadata": {
    "colab": {
      "name": "demo.ipynb",
      "provenance": []
    },
    "kernelspec": {
      "name": "python3",
      "display_name": "Python 3"
    }
  },
  "cells": [
    {
      "cell_type": "code",
      "metadata": {
        "id": "oe_6bMF9x_O2",
        "outputId": "70fd5f5d-63f4-431d-e602-a40ccbea9992",
        "colab": {
          "base_uri": "https://localhost:8080/",
          "height": 123
        }
      },
      "source": [
        "!git clone https://github.com/Shubhambindal2017/spoken_english_to_written_english"
      ],
      "execution_count": 1,
      "outputs": [
        {
          "output_type": "stream",
          "text": [
            "Cloning into 'spoken_english_to_written_english'...\n",
            "remote: Enumerating objects: 19, done.\u001b[K\n",
            "remote: Counting objects: 100% (19/19), done.\u001b[K\n",
            "remote: Compressing objects: 100% (16/16), done.\u001b[K\n",
            "remote: Total 19 (delta 3), reused 7 (delta 0), pack-reused 0\u001b[K\n",
            "Unpacking objects: 100% (19/19), done.\n"
          ],
          "name": "stdout"
        }
      ]
    },
    {
      "cell_type": "code",
      "metadata": {
        "id": "k2vRvdtkyVrg",
        "outputId": "b1440c32-34ef-4ef6-b5da-8cbbcd507989",
        "colab": {
          "base_uri": "https://localhost:8080/",
          "height": 781
        }
      },
      "source": [
        "%cd /content/spoken_english_to_written_english\n",
        "\n",
        "!python3 setup.py install"
      ],
      "execution_count": 2,
      "outputs": [
        {
          "output_type": "stream",
          "text": [
            "/content/spoken_english_to_written_english\n",
            "/usr/local/lib/python3.6/dist-packages/setuptools/dist.py:452: UserWarning: Normalizing '0.01' to '0.1'\n",
            "  warnings.warn(tmpl.format(**locals()))\n",
            "running install\n",
            "running bdist_egg\n",
            "running egg_info\n",
            "creating spoken_english_to_written_english.egg-info\n",
            "writing spoken_english_to_written_english.egg-info/PKG-INFO\n",
            "writing dependency_links to spoken_english_to_written_english.egg-info/dependency_links.txt\n",
            "writing top-level names to spoken_english_to_written_english.egg-info/top_level.txt\n",
            "writing manifest file 'spoken_english_to_written_english.egg-info/SOURCES.txt'\n",
            "writing manifest file 'spoken_english_to_written_english.egg-info/SOURCES.txt'\n",
            "installing library code to build/bdist.linux-x86_64/egg\n",
            "running install_lib\n",
            "running build_py\n",
            "creating build\n",
            "creating build/lib\n",
            "creating build/lib/spoken2written\n",
            "copying spoken2written/sp2wr.py -> build/lib/spoken2written\n",
            "copying spoken2written/__init__.py -> build/lib/spoken2written\n",
            "creating build/bdist.linux-x86_64\n",
            "creating build/bdist.linux-x86_64/egg\n",
            "creating build/bdist.linux-x86_64/egg/spoken2written\n",
            "copying build/lib/spoken2written/sp2wr.py -> build/bdist.linux-x86_64/egg/spoken2written\n",
            "copying build/lib/spoken2written/__init__.py -> build/bdist.linux-x86_64/egg/spoken2written\n",
            "byte-compiling build/bdist.linux-x86_64/egg/spoken2written/sp2wr.py to sp2wr.cpython-36.pyc\n",
            "byte-compiling build/bdist.linux-x86_64/egg/spoken2written/__init__.py to __init__.cpython-36.pyc\n",
            "creating build/bdist.linux-x86_64/egg/EGG-INFO\n",
            "copying spoken_english_to_written_english.egg-info/PKG-INFO -> build/bdist.linux-x86_64/egg/EGG-INFO\n",
            "copying spoken_english_to_written_english.egg-info/SOURCES.txt -> build/bdist.linux-x86_64/egg/EGG-INFO\n",
            "copying spoken_english_to_written_english.egg-info/dependency_links.txt -> build/bdist.linux-x86_64/egg/EGG-INFO\n",
            "copying spoken_english_to_written_english.egg-info/top_level.txt -> build/bdist.linux-x86_64/egg/EGG-INFO\n",
            "zip_safe flag not set; analyzing archive contents...\n",
            "creating dist\n",
            "creating 'dist/spoken_english_to_written_english-0.1-py3.6.egg' and adding 'build/bdist.linux-x86_64/egg' to it\n",
            "removing 'build/bdist.linux-x86_64/egg' (and everything under it)\n",
            "Processing spoken_english_to_written_english-0.1-py3.6.egg\n",
            "Copying spoken_english_to_written_english-0.1-py3.6.egg to /usr/local/lib/python3.6/dist-packages\n",
            "Adding spoken-english-to-written-english 0.1 to easy-install.pth file\n",
            "\n",
            "Installed /usr/local/lib/python3.6/dist-packages/spoken_english_to_written_english-0.1-py3.6.egg\n",
            "Processing dependencies for spoken-english-to-written-english==0.1\n",
            "Finished processing dependencies for spoken-english-to-written-english==0.1\n"
          ],
          "name": "stdout"
        }
      ]
    },
    {
      "cell_type": "code",
      "metadata": {
        "id": "kzMOUcXEyj6K"
      },
      "source": [
        "from spoken2written import sp2wr"
      ],
      "execution_count": 4,
      "outputs": []
    },
    {
      "cell_type": "code",
      "metadata": {
        "id": "EjcJxBCszS8T",
        "outputId": "8ea19f7d-2e58-4de5-a9ad-83e7c0210e5b",
        "colab": {
          "base_uri": "https://localhost:8080/",
          "height": 212
        }
      },
      "source": [
        "sp2wr.convert_sp_to_wr()"
      ],
      "execution_count": 5,
      "outputs": [
        {
          "output_type": "stream",
          "text": [
            "\n",
            "[IN]:Enter Your paragraph of spoken english:\n",
            "\tI earn fifty dollars per day. My contact number contains double 9.\n",
            "\n",
            "[OUT]:The input Spoken English Paragraph: \n",
            "\n",
            " \" I earn fifty dollars per day. My contact number contains double 9.\"\n",
            "\n",
            "Converted Written English Paragraph: \n",
            "\n",
            " \" I earn $50 per day. My contact number contains 99.\"\n"
          ],
          "name": "stdout"
        }
      ]
    },
    {
      "cell_type": "code",
      "metadata": {
        "id": "WjVPqkwlzVwE"
      },
      "source": [
        ""
      ],
      "execution_count": null,
      "outputs": []
    }
  ]
}